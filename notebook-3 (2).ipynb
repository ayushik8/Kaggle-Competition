{
 "cells": [
  {
   "cell_type": "code",
   "execution_count": 1,
   "id": "af7729ea",
   "metadata": {
    "_cell_guid": "b1076dfc-b9ad-4769-8c92-a6c4dae69d19",
    "_uuid": "8f2839f25d086af736a60e9eeb907d3b93b6e0e5",
    "execution": {
     "iopub.execute_input": "2025-10-16T07:08:02.264259Z",
     "iopub.status.busy": "2025-10-16T07:08:02.263887Z",
     "iopub.status.idle": "2025-10-16T07:08:04.101835Z",
     "shell.execute_reply": "2025-10-16T07:08:04.100863Z"
    },
    "papermill": {
     "duration": 1.846329,
     "end_time": "2025-10-16T07:08:04.103414",
     "exception": false,
     "start_time": "2025-10-16T07:08:02.257085",
     "status": "completed"
    },
    "tags": []
   },
   "outputs": [
    {
     "name": "stdout",
     "output_type": "stream",
     "text": [
      "/kaggle/input/fall25-ece460j-kaggle-competition/sample_submission.csv\n",
      "/kaggle/input/fall25-ece460j-kaggle-competition/train.csv\n",
      "/kaggle/input/fall25-ece460j-kaggle-competition/test.csv\n"
     ]
    }
   ],
   "source": [
    "import numpy as np # linear algebra\n",
    "import pandas as pd # data processing, CSV file I/O (e.g. pd.read_csv)\n",
    "\n",
    "import os\n",
    "for dirname, _, filenames in os.walk('/kaggle/input'):\n",
    "    for filename in filenames:\n",
    "        print(os.path.join(dirname, filename))"
   ]
  },
  {
   "cell_type": "code",
   "execution_count": 2,
   "id": "f97e97b4",
   "metadata": {
    "execution": {
     "iopub.execute_input": "2025-10-16T07:08:04.115087Z",
     "iopub.status.busy": "2025-10-16T07:08:04.114368Z",
     "iopub.status.idle": "2025-10-16T07:08:06.773046Z",
     "shell.execute_reply": "2025-10-16T07:08:06.772217Z"
    },
    "papermill": {
     "duration": 2.665897,
     "end_time": "2025-10-16T07:08:06.774570",
     "exception": false,
     "start_time": "2025-10-16T07:08:04.108673",
     "status": "completed"
    },
    "tags": []
   },
   "outputs": [],
   "source": [
    "import pandas as pd\n",
    "import numpy as np\n",
    "import seaborn as sns\n",
    "import matplotlib\n",
    "import matplotlib.pyplot as plt\n",
    "\n",
    "from scipy.stats import skew\n",
    "\n",
    "import sklearn\n",
    "from sklearn.model_selection import train_test_split, cross_val_score, GridSearchCV \n",
    "from sklearn.metrics import roc_auc_score, accuracy_score, classification_report, confusion_matrix\n",
    "from sklearn.linear_model import LogisticRegression\n",
    "from sklearn.preprocessing import StandardScaler \n",
    "from sklearn.ensemble import RandomForestClassifier, StackingClassifier\n",
    "from xgboost import XGBClassifier\n",
    "\n",
    "%config InlineBackend.figure_format = 'png'\n",
    "%matplotlib inline"
   ]
  },
  {
   "cell_type": "markdown",
   "id": "242a0824",
   "metadata": {
    "papermill": {
     "duration": 0.004479,
     "end_time": "2025-10-16T07:08:06.784172",
     "exception": false,
     "start_time": "2025-10-16T07:08:06.779693",
     "status": "completed"
    },
    "tags": []
   },
   "source": [
    "## Reading in Data \n",
    "First looks at the data and organizing them into train and test parts. We are able to see the original sizes of the datasets and prepare them for the rest of the preprocessing. "
   ]
  },
  {
   "cell_type": "code",
   "execution_count": 3,
   "id": "cbbeb2ef",
   "metadata": {
    "execution": {
     "iopub.execute_input": "2025-10-16T07:08:06.795398Z",
     "iopub.status.busy": "2025-10-16T07:08:06.794938Z",
     "iopub.status.idle": "2025-10-16T07:08:06.980367Z",
     "shell.execute_reply": "2025-10-16T07:08:06.979477Z"
    },
    "papermill": {
     "duration": 0.192532,
     "end_time": "2025-10-16T07:08:06.981842",
     "exception": false,
     "start_time": "2025-10-16T07:08:06.789310",
     "status": "completed"
    },
    "tags": []
   },
   "outputs": [
    {
     "data": {
      "text/html": [
       "<div>\n",
       "<style scoped>\n",
       "    .dataframe tbody tr th:only-of-type {\n",
       "        vertical-align: middle;\n",
       "    }\n",
       "\n",
       "    .dataframe tbody tr th {\n",
       "        vertical-align: top;\n",
       "    }\n",
       "\n",
       "    .dataframe thead th {\n",
       "        text-align: right;\n",
       "    }\n",
       "</style>\n",
       "<table border=\"1\" class=\"dataframe\">\n",
       "  <thead>\n",
       "    <tr style=\"text-align: right;\">\n",
       "      <th></th>\n",
       "      <th>id</th>\n",
       "      <th>age</th>\n",
       "      <th>height(cm)</th>\n",
       "      <th>weight(kg)</th>\n",
       "      <th>waist(cm)</th>\n",
       "      <th>eyesight(left)</th>\n",
       "      <th>eyesight(right)</th>\n",
       "      <th>hearing(left)</th>\n",
       "      <th>hearing(right)</th>\n",
       "      <th>systolic</th>\n",
       "      <th>...</th>\n",
       "      <th>triglyceride</th>\n",
       "      <th>HDL</th>\n",
       "      <th>LDL</th>\n",
       "      <th>hemoglobin</th>\n",
       "      <th>Urine protein</th>\n",
       "      <th>serum creatinine</th>\n",
       "      <th>AST</th>\n",
       "      <th>ALT</th>\n",
       "      <th>Gtp</th>\n",
       "      <th>dental caries</th>\n",
       "    </tr>\n",
       "  </thead>\n",
       "  <tbody>\n",
       "    <tr>\n",
       "      <th>0</th>\n",
       "      <td>15000</td>\n",
       "      <td>45.0</td>\n",
       "      <td>165.0</td>\n",
       "      <td>70.0</td>\n",
       "      <td>81.0</td>\n",
       "      <td>1.2</td>\n",
       "      <td>1.2</td>\n",
       "      <td>1.0</td>\n",
       "      <td>1.0</td>\n",
       "      <td>118.0</td>\n",
       "      <td>...</td>\n",
       "      <td>114.0</td>\n",
       "      <td>56.0</td>\n",
       "      <td>107.0</td>\n",
       "      <td>15.5</td>\n",
       "      <td>1.0</td>\n",
       "      <td>0.9</td>\n",
       "      <td>20.0</td>\n",
       "      <td>32.0</td>\n",
       "      <td>44.0</td>\n",
       "      <td>1.0</td>\n",
       "    </tr>\n",
       "    <tr>\n",
       "      <th>1</th>\n",
       "      <td>15001</td>\n",
       "      <td>45.0</td>\n",
       "      <td>160.0</td>\n",
       "      <td>50.0</td>\n",
       "      <td>71.0</td>\n",
       "      <td>0.8</td>\n",
       "      <td>0.8</td>\n",
       "      <td>1.0</td>\n",
       "      <td>1.0</td>\n",
       "      <td>100.0</td>\n",
       "      <td>...</td>\n",
       "      <td>49.0</td>\n",
       "      <td>75.0</td>\n",
       "      <td>130.0</td>\n",
       "      <td>13.9</td>\n",
       "      <td>1.0</td>\n",
       "      <td>1.0</td>\n",
       "      <td>27.0</td>\n",
       "      <td>20.0</td>\n",
       "      <td>25.0</td>\n",
       "      <td>0.0</td>\n",
       "    </tr>\n",
       "    <tr>\n",
       "      <th>2</th>\n",
       "      <td>15002</td>\n",
       "      <td>45.0</td>\n",
       "      <td>160.0</td>\n",
       "      <td>70.0</td>\n",
       "      <td>88.0</td>\n",
       "      <td>1.0</td>\n",
       "      <td>1.0</td>\n",
       "      <td>1.0</td>\n",
       "      <td>1.0</td>\n",
       "      <td>134.0</td>\n",
       "      <td>...</td>\n",
       "      <td>101.0</td>\n",
       "      <td>50.0</td>\n",
       "      <td>95.0</td>\n",
       "      <td>15.3</td>\n",
       "      <td>1.0</td>\n",
       "      <td>0.7</td>\n",
       "      <td>25.0</td>\n",
       "      <td>23.0</td>\n",
       "      <td>29.0</td>\n",
       "      <td>0.0</td>\n",
       "    </tr>\n",
       "    <tr>\n",
       "      <th>3</th>\n",
       "      <td>15003</td>\n",
       "      <td>40.0</td>\n",
       "      <td>165.0</td>\n",
       "      <td>60.0</td>\n",
       "      <td>72.0</td>\n",
       "      <td>1.0</td>\n",
       "      <td>1.2</td>\n",
       "      <td>1.0</td>\n",
       "      <td>1.0</td>\n",
       "      <td>109.0</td>\n",
       "      <td>...</td>\n",
       "      <td>66.0</td>\n",
       "      <td>74.0</td>\n",
       "      <td>101.0</td>\n",
       "      <td>13.6</td>\n",
       "      <td>1.0</td>\n",
       "      <td>0.7</td>\n",
       "      <td>18.0</td>\n",
       "      <td>12.0</td>\n",
       "      <td>14.0</td>\n",
       "      <td>0.0</td>\n",
       "    </tr>\n",
       "    <tr>\n",
       "      <th>4</th>\n",
       "      <td>15004</td>\n",
       "      <td>35.0</td>\n",
       "      <td>170.0</td>\n",
       "      <td>70.0</td>\n",
       "      <td>81.0</td>\n",
       "      <td>1.0</td>\n",
       "      <td>1.2</td>\n",
       "      <td>1.0</td>\n",
       "      <td>1.0</td>\n",
       "      <td>112.0</td>\n",
       "      <td>...</td>\n",
       "      <td>56.0</td>\n",
       "      <td>58.0</td>\n",
       "      <td>117.0</td>\n",
       "      <td>14.8</td>\n",
       "      <td>1.0</td>\n",
       "      <td>1.0</td>\n",
       "      <td>24.0</td>\n",
       "      <td>25.0</td>\n",
       "      <td>24.0</td>\n",
       "      <td>0.0</td>\n",
       "    </tr>\n",
       "  </tbody>\n",
       "</table>\n",
       "<p>5 rows × 23 columns</p>\n",
       "</div>"
      ],
      "text/plain": [
       "      id   age  height(cm)  weight(kg)  waist(cm)  eyesight(left)  \\\n",
       "0  15000  45.0       165.0        70.0       81.0             1.2   \n",
       "1  15001  45.0       160.0        50.0       71.0             0.8   \n",
       "2  15002  45.0       160.0        70.0       88.0             1.0   \n",
       "3  15003  40.0       165.0        60.0       72.0             1.0   \n",
       "4  15004  35.0       170.0        70.0       81.0             1.0   \n",
       "\n",
       "   eyesight(right)  hearing(left)  hearing(right)  systolic  ...  \\\n",
       "0              1.2            1.0             1.0     118.0  ...   \n",
       "1              0.8            1.0             1.0     100.0  ...   \n",
       "2              1.0            1.0             1.0     134.0  ...   \n",
       "3              1.2            1.0             1.0     109.0  ...   \n",
       "4              1.2            1.0             1.0     112.0  ...   \n",
       "\n",
       "   triglyceride   HDL    LDL  hemoglobin  Urine protein  serum creatinine  \\\n",
       "0         114.0  56.0  107.0        15.5            1.0               0.9   \n",
       "1          49.0  75.0  130.0        13.9            1.0               1.0   \n",
       "2         101.0  50.0   95.0        15.3            1.0               0.7   \n",
       "3          66.0  74.0  101.0        13.6            1.0               0.7   \n",
       "4          56.0  58.0  117.0        14.8            1.0               1.0   \n",
       "\n",
       "    AST   ALT   Gtp  dental caries  \n",
       "0  20.0  32.0  44.0            1.0  \n",
       "1  27.0  20.0  25.0            0.0  \n",
       "2  25.0  23.0  29.0            0.0  \n",
       "3  18.0  12.0  14.0            0.0  \n",
       "4  24.0  25.0  24.0            0.0  \n",
       "\n",
       "[5 rows x 23 columns]"
      ]
     },
     "execution_count": 3,
     "metadata": {},
     "output_type": "execute_result"
    }
   ],
   "source": [
    "train = pd.read_csv(\"/kaggle/input/fall25-ece460j-kaggle-competition/train.csv\")\n",
    "test = pd.read_csv(\"/kaggle/input/fall25-ece460j-kaggle-competition/test.csv\")\n",
    "\n",
    "test.head()"
   ]
  },
  {
   "cell_type": "code",
   "execution_count": 4,
   "id": "3cf005cf",
   "metadata": {
    "execution": {
     "iopub.execute_input": "2025-10-16T07:08:06.993721Z",
     "iopub.status.busy": "2025-10-16T07:08:06.993077Z",
     "iopub.status.idle": "2025-10-16T07:08:06.997984Z",
     "shell.execute_reply": "2025-10-16T07:08:06.997053Z"
    },
    "papermill": {
     "duration": 0.012148,
     "end_time": "2025-10-16T07:08:06.999272",
     "exception": false,
     "start_time": "2025-10-16T07:08:06.987124",
     "status": "completed"
    },
    "tags": []
   },
   "outputs": [
    {
     "name": "stdout",
     "output_type": "stream",
     "text": [
      "Train shape: (15000, 24) Test shape: (10000, 23)\n"
     ]
    }
   ],
   "source": [
    "print(\"Train shape:\", train.shape, \"Test shape:\", test.shape)"
   ]
  },
  {
   "cell_type": "code",
   "execution_count": 5,
   "id": "62c2bf83",
   "metadata": {
    "execution": {
     "iopub.execute_input": "2025-10-16T07:08:07.010659Z",
     "iopub.status.busy": "2025-10-16T07:08:07.010329Z",
     "iopub.status.idle": "2025-10-16T07:08:07.024575Z",
     "shell.execute_reply": "2025-10-16T07:08:07.023724Z"
    },
    "papermill": {
     "duration": 0.021778,
     "end_time": "2025-10-16T07:08:07.026236",
     "exception": false,
     "start_time": "2025-10-16T07:08:07.004458",
     "status": "completed"
    },
    "tags": []
   },
   "outputs": [],
   "source": [
    "train_noid = train.drop('id', axis=1)\n",
    "test_noid = test.drop('id', axis=1)"
   ]
  },
  {
   "cell_type": "code",
   "execution_count": 6,
   "id": "2b441903",
   "metadata": {
    "execution": {
     "iopub.execute_input": "2025-10-16T07:08:07.037666Z",
     "iopub.status.busy": "2025-10-16T07:08:07.037349Z",
     "iopub.status.idle": "2025-10-16T07:08:07.053527Z",
     "shell.execute_reply": "2025-10-16T07:08:07.052689Z"
    },
    "papermill": {
     "duration": 0.023913,
     "end_time": "2025-10-16T07:08:07.055410",
     "exception": false,
     "start_time": "2025-10-16T07:08:07.031497",
     "status": "completed"
    },
    "tags": []
   },
   "outputs": [],
   "source": [
    "all_data = pd.concat((train.loc[:,'age':'dental caries'],test.loc[:,'age':'dental caries']))"
   ]
  },
  {
   "cell_type": "code",
   "execution_count": 7,
   "id": "c35ee89e",
   "metadata": {
    "execution": {
     "iopub.execute_input": "2025-10-16T07:08:07.067173Z",
     "iopub.status.busy": "2025-10-16T07:08:07.066803Z",
     "iopub.status.idle": "2025-10-16T07:08:07.090418Z",
     "shell.execute_reply": "2025-10-16T07:08:07.089530Z"
    },
    "papermill": {
     "duration": 0.03103,
     "end_time": "2025-10-16T07:08:07.091856",
     "exception": false,
     "start_time": "2025-10-16T07:08:07.060826",
     "status": "completed"
    },
    "tags": []
   },
   "outputs": [
    {
     "data": {
      "text/html": [
       "<div>\n",
       "<style scoped>\n",
       "    .dataframe tbody tr th:only-of-type {\n",
       "        vertical-align: middle;\n",
       "    }\n",
       "\n",
       "    .dataframe tbody tr th {\n",
       "        vertical-align: top;\n",
       "    }\n",
       "\n",
       "    .dataframe thead th {\n",
       "        text-align: right;\n",
       "    }\n",
       "</style>\n",
       "<table border=\"1\" class=\"dataframe\">\n",
       "  <thead>\n",
       "    <tr style=\"text-align: right;\">\n",
       "      <th></th>\n",
       "      <th>age</th>\n",
       "      <th>height(cm)</th>\n",
       "      <th>weight(kg)</th>\n",
       "      <th>waist(cm)</th>\n",
       "      <th>eyesight(left)</th>\n",
       "      <th>eyesight(right)</th>\n",
       "      <th>hearing(left)</th>\n",
       "      <th>hearing(right)</th>\n",
       "      <th>systolic</th>\n",
       "      <th>relaxation</th>\n",
       "      <th>...</th>\n",
       "      <th>triglyceride</th>\n",
       "      <th>HDL</th>\n",
       "      <th>LDL</th>\n",
       "      <th>hemoglobin</th>\n",
       "      <th>Urine protein</th>\n",
       "      <th>serum creatinine</th>\n",
       "      <th>AST</th>\n",
       "      <th>ALT</th>\n",
       "      <th>Gtp</th>\n",
       "      <th>dental caries</th>\n",
       "    </tr>\n",
       "  </thead>\n",
       "  <tbody>\n",
       "    <tr>\n",
       "      <th>0</th>\n",
       "      <td>50.0</td>\n",
       "      <td>160.0</td>\n",
       "      <td>60.0</td>\n",
       "      <td>77.0</td>\n",
       "      <td>0.8</td>\n",
       "      <td>0.7</td>\n",
       "      <td>1.0</td>\n",
       "      <td>1.0</td>\n",
       "      <td>105.0</td>\n",
       "      <td>63.0</td>\n",
       "      <td>...</td>\n",
       "      <td>64.0</td>\n",
       "      <td>50.0</td>\n",
       "      <td>117.0</td>\n",
       "      <td>13.9</td>\n",
       "      <td>1.0</td>\n",
       "      <td>0.7</td>\n",
       "      <td>16.0</td>\n",
       "      <td>13.0</td>\n",
       "      <td>15.0</td>\n",
       "      <td>0.0</td>\n",
       "    </tr>\n",
       "    <tr>\n",
       "      <th>1</th>\n",
       "      <td>30.0</td>\n",
       "      <td>180.0</td>\n",
       "      <td>70.0</td>\n",
       "      <td>82.0</td>\n",
       "      <td>1.2</td>\n",
       "      <td>1.2</td>\n",
       "      <td>1.0</td>\n",
       "      <td>1.0</td>\n",
       "      <td>115.0</td>\n",
       "      <td>79.0</td>\n",
       "      <td>...</td>\n",
       "      <td>66.0</td>\n",
       "      <td>67.0</td>\n",
       "      <td>87.0</td>\n",
       "      <td>14.7</td>\n",
       "      <td>1.0</td>\n",
       "      <td>0.9</td>\n",
       "      <td>18.0</td>\n",
       "      <td>19.0</td>\n",
       "      <td>22.0</td>\n",
       "      <td>0.0</td>\n",
       "    </tr>\n",
       "    <tr>\n",
       "      <th>2</th>\n",
       "      <td>45.0</td>\n",
       "      <td>170.0</td>\n",
       "      <td>70.0</td>\n",
       "      <td>82.0</td>\n",
       "      <td>1.5</td>\n",
       "      <td>1.2</td>\n",
       "      <td>1.0</td>\n",
       "      <td>1.0</td>\n",
       "      <td>124.0</td>\n",
       "      <td>81.0</td>\n",
       "      <td>...</td>\n",
       "      <td>123.0</td>\n",
       "      <td>50.0</td>\n",
       "      <td>78.0</td>\n",
       "      <td>12.7</td>\n",
       "      <td>1.0</td>\n",
       "      <td>1.1</td>\n",
       "      <td>16.0</td>\n",
       "      <td>13.0</td>\n",
       "      <td>33.0</td>\n",
       "      <td>0.0</td>\n",
       "    </tr>\n",
       "    <tr>\n",
       "      <th>3</th>\n",
       "      <td>60.0</td>\n",
       "      <td>150.0</td>\n",
       "      <td>50.0</td>\n",
       "      <td>77.0</td>\n",
       "      <td>0.7</td>\n",
       "      <td>1.0</td>\n",
       "      <td>1.0</td>\n",
       "      <td>1.0</td>\n",
       "      <td>104.0</td>\n",
       "      <td>68.0</td>\n",
       "      <td>...</td>\n",
       "      <td>142.0</td>\n",
       "      <td>48.0</td>\n",
       "      <td>87.0</td>\n",
       "      <td>13.1</td>\n",
       "      <td>1.0</td>\n",
       "      <td>0.8</td>\n",
       "      <td>17.0</td>\n",
       "      <td>12.0</td>\n",
       "      <td>14.0</td>\n",
       "      <td>0.0</td>\n",
       "    </tr>\n",
       "    <tr>\n",
       "      <th>4</th>\n",
       "      <td>45.0</td>\n",
       "      <td>155.0</td>\n",
       "      <td>55.0</td>\n",
       "      <td>73.0</td>\n",
       "      <td>1.5</td>\n",
       "      <td>1.5</td>\n",
       "      <td>1.0</td>\n",
       "      <td>1.0</td>\n",
       "      <td>123.0</td>\n",
       "      <td>79.0</td>\n",
       "      <td>...</td>\n",
       "      <td>87.0</td>\n",
       "      <td>72.0</td>\n",
       "      <td>91.0</td>\n",
       "      <td>14.4</td>\n",
       "      <td>1.0</td>\n",
       "      <td>0.6</td>\n",
       "      <td>24.0</td>\n",
       "      <td>19.0</td>\n",
       "      <td>22.0</td>\n",
       "      <td>0.0</td>\n",
       "    </tr>\n",
       "  </tbody>\n",
       "</table>\n",
       "<p>5 rows × 22 columns</p>\n",
       "</div>"
      ],
      "text/plain": [
       "    age  height(cm)  weight(kg)  waist(cm)  eyesight(left)  eyesight(right)  \\\n",
       "0  50.0       160.0        60.0       77.0             0.8              0.7   \n",
       "1  30.0       180.0        70.0       82.0             1.2              1.2   \n",
       "2  45.0       170.0        70.0       82.0             1.5              1.2   \n",
       "3  60.0       150.0        50.0       77.0             0.7              1.0   \n",
       "4  45.0       155.0        55.0       73.0             1.5              1.5   \n",
       "\n",
       "   hearing(left)  hearing(right)  systolic  relaxation  ...  triglyceride  \\\n",
       "0            1.0             1.0     105.0        63.0  ...          64.0   \n",
       "1            1.0             1.0     115.0        79.0  ...          66.0   \n",
       "2            1.0             1.0     124.0        81.0  ...         123.0   \n",
       "3            1.0             1.0     104.0        68.0  ...         142.0   \n",
       "4            1.0             1.0     123.0        79.0  ...          87.0   \n",
       "\n",
       "    HDL    LDL  hemoglobin  Urine protein  serum creatinine   AST   ALT   Gtp  \\\n",
       "0  50.0  117.0        13.9            1.0               0.7  16.0  13.0  15.0   \n",
       "1  67.0   87.0        14.7            1.0               0.9  18.0  19.0  22.0   \n",
       "2  50.0   78.0        12.7            1.0               1.1  16.0  13.0  33.0   \n",
       "3  48.0   87.0        13.1            1.0               0.8  17.0  12.0  14.0   \n",
       "4  72.0   91.0        14.4            1.0               0.6  24.0  19.0  22.0   \n",
       "\n",
       "   dental caries  \n",
       "0            0.0  \n",
       "1            0.0  \n",
       "2            0.0  \n",
       "3            0.0  \n",
       "4            0.0  \n",
       "\n",
       "[5 rows x 22 columns]"
      ]
     },
     "execution_count": 7,
     "metadata": {},
     "output_type": "execute_result"
    }
   ],
   "source": [
    "all_data.head()"
   ]
  },
  {
   "cell_type": "code",
   "execution_count": 8,
   "id": "689ff4eb",
   "metadata": {
    "execution": {
     "iopub.execute_input": "2025-10-16T07:08:07.104065Z",
     "iopub.status.busy": "2025-10-16T07:08:07.103767Z",
     "iopub.status.idle": "2025-10-16T07:08:07.108492Z",
     "shell.execute_reply": "2025-10-16T07:08:07.107746Z"
    },
    "papermill": {
     "duration": 0.012765,
     "end_time": "2025-10-16T07:08:07.110103",
     "exception": false,
     "start_time": "2025-10-16T07:08:07.097338",
     "status": "completed"
    },
    "tags": []
   },
   "outputs": [],
   "source": [
    "scaler = StandardScaler()\n",
    "\n",
    "X_train = all_data[:train.shape[0]]\n",
    "X_test = all_data[train.shape[0]:]\n",
    "y = train.smoking"
   ]
  },
  {
   "cell_type": "markdown",
   "id": "239ea9de",
   "metadata": {
    "papermill": {
     "duration": 0.005197,
     "end_time": "2025-10-16T07:08:07.120779",
     "exception": false,
     "start_time": "2025-10-16T07:08:07.115582",
     "status": "completed"
    },
    "tags": []
   },
   "source": [
    "## Visualization "
   ]
  },
  {
   "cell_type": "code",
   "execution_count": 9,
   "id": "dea3cff5",
   "metadata": {
    "execution": {
     "iopub.execute_input": "2025-10-16T07:08:07.133050Z",
     "iopub.status.busy": "2025-10-16T07:08:07.132260Z",
     "iopub.status.idle": "2025-10-16T07:08:07.144423Z",
     "shell.execute_reply": "2025-10-16T07:08:07.143274Z"
    },
    "papermill": {
     "duration": 0.019928,
     "end_time": "2025-10-16T07:08:07.146034",
     "exception": false,
     "start_time": "2025-10-16T07:08:07.126106",
     "status": "completed"
    },
    "tags": []
   },
   "outputs": [
    {
     "name": "stdout",
     "output_type": "stream",
     "text": [
      "Number of null values in X_train: age                    0\n",
      "height(cm)             0\n",
      "weight(kg)             0\n",
      "waist(cm)              0\n",
      "eyesight(left)         0\n",
      "eyesight(right)        0\n",
      "hearing(left)          0\n",
      "hearing(right)         0\n",
      "systolic               0\n",
      "relaxation             0\n",
      "fasting blood sugar    0\n",
      "Cholesterol            0\n",
      "triglyceride           0\n",
      "HDL                    0\n",
      "LDL                    0\n",
      "hemoglobin             0\n",
      "Urine protein          0\n",
      "serum creatinine       0\n",
      "AST                    0\n",
      "ALT                    0\n",
      "Gtp                    0\n",
      "dental caries          0\n",
      "dtype: int64\n",
      "Number of Dimensions: 2\n",
      "Shape: (15000, 22)\n"
     ]
    }
   ],
   "source": [
    "print(f\"Number of null values in X_train: {np.isnan(X_train).sum()}\")\n",
    "print(f\"Number of Dimensions: {X_train.ndim}\")\n",
    "print(f\"Shape: {X_train.shape}\")"
   ]
  },
  {
   "cell_type": "code",
   "execution_count": 10,
   "id": "e4e1269a",
   "metadata": {
    "execution": {
     "iopub.execute_input": "2025-10-16T07:08:07.158195Z",
     "iopub.status.busy": "2025-10-16T07:08:07.157917Z",
     "iopub.status.idle": "2025-10-16T07:08:07.355301Z",
     "shell.execute_reply": "2025-10-16T07:08:07.354493Z"
    },
    "papermill": {
     "duration": 0.20508,
     "end_time": "2025-10-16T07:08:07.356727",
     "exception": false,
     "start_time": "2025-10-16T07:08:07.151647",
     "status": "completed"
    },
    "tags": []
   },
   "outputs": [
    {
     "data": {
      "image/png": "[encoded data removed]",
      "text/plain": [
       "<Figure size 640x480 with 1 Axes>"
      ]
     },
     "metadata": {},
     "output_type": "display_data"
    }
   ],
   "source": [
    "# Visualization of current distribution in the training data \n",
    "plt.figure()\n",
    "sns.countplot(x=y)\n",
    "plt.title('Smoker Status')\n",
    "plt.show()"
   ]
  },
  {
   "cell_type": "code",
   "execution_count": 11,
   "id": "027fa20d",
   "metadata": {
    "execution": {
     "iopub.execute_input": "2025-10-16T07:08:07.369711Z",
     "iopub.status.busy": "2025-10-16T07:08:07.369331Z",
     "iopub.status.idle": "2025-10-16T07:08:07.583165Z",
     "shell.execute_reply": "2025-10-16T07:08:07.582263Z"
    },
    "papermill": {
     "duration": 0.2221,
     "end_time": "2025-10-16T07:08:07.584770",
     "exception": false,
     "start_time": "2025-10-16T07:08:07.362670",
     "status": "completed"
    },
    "tags": []
   },
   "outputs": [
    {
     "name": "stderr",
     "output_type": "stream",
     "text": [
      "/usr/local/lib/python3.11/dist-packages/seaborn/_oldcore.py:1119: FutureWarning: use_inf_as_na option is deprecated and will be removed in a future version. Convert inf values to NaN before operating instead.\n",
      "  with pd.option_context('mode.use_inf_as_na', True):\n"
     ]
    },
    {
     "data": {
      "image/png": "[encoded data removed]",
      "text/plain": [
       "<Figure size 640x480 with 1 Axes>"
      ]
     },
     "metadata": {},
     "output_type": "display_data"
    }
   ],
   "source": [
    "numeric_feats = all_data.dtypes[all_data.dtypes != \"object\"].index\n",
    "skewed_feats = train[numeric_feats].apply(lambda x: skew(x.dropna()))\n",
    "sns.histplot(skewed_feats)\n",
    "plt.title(\"Skewness Distribution of Features\")\n",
    "plt.show()\n",
    "\n",
    "skewed_feats = skewed_feats[skewed_feats > 0.75]\n",
    "skewed_feats = skewed_feats.index"
   ]
  },
  {
   "cell_type": "code",
   "execution_count": 12,
   "id": "052e177d",
   "metadata": {
    "execution": {
     "iopub.execute_input": "2025-10-16T07:08:07.598985Z",
     "iopub.status.busy": "2025-10-16T07:08:07.598689Z",
     "iopub.status.idle": "2025-10-16T07:08:08.025857Z",
     "shell.execute_reply": "2025-10-16T07:08:08.024980Z"
    },
    "papermill": {
     "duration": 0.43633,
     "end_time": "2025-10-16T07:08:08.027697",
     "exception": false,
     "start_time": "2025-10-16T07:08:07.591367",
     "status": "completed"
    },
    "tags": []
   },
   "outputs": [
    {
     "data": {
      "image/png": "[encoded data removed]",
      "text/plain": [
       "<Figure size 640x480 with 2 Axes>"
      ]
     },
     "metadata": {},
     "output_type": "display_data"
    },
    {
     "name": "stdout",
     "output_type": "stream",
     "text": [
      "Top 5 Correlated with Smoker Status\n",
      "hemoglobin          0.504360\n",
      "height(cm)          0.476851\n",
      "weight(kg)          0.409750\n",
      "Gtp                 0.366762\n",
      "serum creatinine    0.350503\n",
      "Name: smoking, dtype: float64\n"
     ]
    }
   ],
   "source": [
    "train_corr = X_train.copy()\n",
    "train_corr['smoking'] = y\n",
    "\n",
    "plt.figure()\n",
    "correlation_matrix = train_corr.corr()\n",
    "sns.heatmap(correlation_matrix, annot=False, cmap='coolwarm', fmt=\".2f\")\n",
    "plt.show()\n",
    "\n",
    "target_corr = correlation_matrix['smoking'].sort_values(ascending=False)\n",
    "print(\"Top 5 Correlated with Smoker Status\")\n",
    "print(target_corr.drop('smoking').head(5))"
   ]
  },
  {
   "cell_type": "markdown",
   "id": "635b5cdf",
   "metadata": {
    "papermill": {
     "duration": 0.008209,
     "end_time": "2025-10-16T07:08:08.043646",
     "exception": false,
     "start_time": "2025-10-16T07:08:08.035437",
     "status": "completed"
    },
    "tags": []
   },
   "source": [
    "## Feature Engineering"
   ]
  },
  {
   "cell_type": "code",
   "execution_count": 13,
   "id": "b6fc7be4",
   "metadata": {
    "execution": {
     "iopub.execute_input": "2025-10-16T07:08:08.060136Z",
     "iopub.status.busy": "2025-10-16T07:08:08.059525Z",
     "iopub.status.idle": "2025-10-16T07:08:08.077532Z",
     "shell.execute_reply": "2025-10-16T07:08:08.076591Z"
    },
    "papermill": {
     "duration": 0.028232,
     "end_time": "2025-10-16T07:08:08.079269",
     "exception": false,
     "start_time": "2025-10-16T07:08:08.051037",
     "status": "completed"
    },
    "tags": []
   },
   "outputs": [],
   "source": [
    "def feature_engineer(df):\n",
    "    df_fe = df.copy()\n",
    "    # Creating Interaction Terms ~ \n",
    "    df_fe['BMI'] = (df_fe['weight(kg)']) / ((df_fe['height(cm)']/100)**2)\n",
    "    df_fe['cholesterol_ratio'] = df_fe['LDL'] / df_fe['HDL'] \n",
    "\n",
    "    return df_fe\n",
    "\n",
    "X_train_fe = feature_engineer(X_train)\n",
    "X_test_fe = feature_engineer(X_test)"
   ]
  },
  {
   "cell_type": "markdown",
   "id": "61181f1d",
   "metadata": {
    "papermill": {
     "duration": 0.007466,
     "end_time": "2025-10-16T07:08:08.094324",
     "exception": false,
     "start_time": "2025-10-16T07:08:08.086858",
     "status": "completed"
    },
    "tags": []
   },
   "source": [
    "## Training Models"
   ]
  },
  {
   "cell_type": "code",
   "execution_count": 14,
   "id": "91f45cde",
   "metadata": {
    "execution": {
     "iopub.execute_input": "2025-10-16T07:08:08.110994Z",
     "iopub.status.busy": "2025-10-16T07:08:08.110682Z",
     "iopub.status.idle": "2025-10-16T07:08:08.143242Z",
     "shell.execute_reply": "2025-10-16T07:08:08.142291Z"
    },
    "papermill": {
     "duration": 0.042869,
     "end_time": "2025-10-16T07:08:08.144947",
     "exception": false,
     "start_time": "2025-10-16T07:08:08.102078",
     "status": "completed"
    },
    "tags": []
   },
   "outputs": [],
   "source": [
    "X_train_fe = scaler.fit_transform(X_train_fe)\n",
    "X_test_fe = scaler.transform(X_test_fe)\n",
    "scoring_metric = 'roc_auc'"
   ]
  },
  {
   "cell_type": "markdown",
   "id": "3781fa6d",
   "metadata": {
    "papermill": {
     "duration": 0.007039,
     "end_time": "2025-10-16T07:08:08.159805",
     "exception": false,
     "start_time": "2025-10-16T07:08:08.152766",
     "status": "completed"
    },
    "tags": []
   },
   "source": [
    "### Logistic Regression"
   ]
  },
  {
   "cell_type": "code",
   "execution_count": 15,
   "id": "a40ff555",
   "metadata": {
    "execution": {
     "iopub.execute_input": "2025-10-16T07:08:08.175661Z",
     "iopub.status.busy": "2025-10-16T07:08:08.175348Z",
     "iopub.status.idle": "2025-10-16T07:08:11.489412Z",
     "shell.execute_reply": "2025-10-16T07:08:11.488424Z"
    },
    "papermill": {
     "duration": 3.323891,
     "end_time": "2025-10-16T07:08:11.491124",
     "exception": false,
     "start_time": "2025-10-16T07:08:08.167233",
     "status": "completed"
    },
    "tags": []
   },
   "outputs": [
    {
     "name": "stdout",
     "output_type": "stream",
     "text": [
      "Fitting 10 folds for each of 5 candidates, totalling 50 fits\n",
      "Training Accuracy: 0.7789333333333334\n",
      "Best LR: 0.7776\n",
      "Best parameters: {'C': 0.1}\n",
      "Fitting 3 folds for each of 5 candidates, totalling 15 fits\n",
      "Best LR L1 AUC: 0.7782\n",
      "Best parameters: {'C': 1}\n",
      "L1 Regularized Training Accuracy: 0.7791333333333333\n"
     ]
    }
   ],
   "source": [
    "log_reg = LogisticRegression(multi_class='multinomial', solver='saga', max_iter=100, tol=0.1)\n",
    "param_grid = {'C': [0.01, 0.1, 1, 10, 100]}\n",
    "grid_search = GridSearchCV(log_reg, param_grid, cv=10, n_jobs=-1, verbose=2)\n",
    "grid_search.fit(X_train_fe, y)\n",
    "\n",
    "best_log_reg = grid_search.best_estimator_\n",
    "y_train_pred = best_log_reg.predict(X_train_fe)\n",
    "y_test_pred = best_log_reg.predict(X_test_fe)\n",
    "\n",
    "train_accuracy = accuracy_score(y, y_train_pred)\n",
    "\n",
    "print(f\"Training Accuracy: {train_accuracy}\")\n",
    "print(f\"Best LR: {grid_search.best_score_:.4f}\")\n",
    "print(f\"Best parameters: {grid_search.best_params_}\")\n",
    "\n",
    "#Also trying logistic regression model with l1 penalty, slightly worse training accuracy results, but AUC is better. \n",
    "log_reg_l1 = LogisticRegression(multi_class='multinomial', max_iter=100, tol=0.1, penalty='l1', solver='saga')\n",
    "\n",
    "param_grid_l1 = {'C': [0.01, 0.1, 1, 10, 100]}\n",
    "grid_search_l1 = GridSearchCV(log_reg_l1, param_grid_l1, cv=3, n_jobs=-1, verbose=2)\n",
    "grid_search_l1.fit(X_train_fe, y)\n",
    "\n",
    "best_log_reg_l1 = grid_search_l1.best_estimator_\n",
    "y_train_pred_l1 = best_log_reg_l1.predict(X_train_fe)\n",
    "y_test_pred_l1 = best_log_reg_l1.predict(X_test_fe)\n",
    "\n",
    "train_accuracy_l1 = accuracy_score(y, y_train_pred_l1)\n",
    "print(f\"Best LR L1 AUC: {grid_search_l1.best_score_:.4f}\")\n",
    "print(f\"Best parameters: {grid_search_l1.best_params_}\")\n",
    "print(f\"L1 Regularized Training Accuracy: {train_accuracy_l1}\")\n"
   ]
  },
  {
   "cell_type": "markdown",
   "id": "bea885c3",
   "metadata": {
    "papermill": {
     "duration": 0.007197,
     "end_time": "2025-10-16T07:08:11.506096",
     "exception": false,
     "start_time": "2025-10-16T07:08:11.498899",
     "status": "completed"
    },
    "tags": []
   },
   "source": [
    "## Random Forest"
   ]
  },
  {
   "cell_type": "code",
   "execution_count": 16,
   "id": "8fbae556",
   "metadata": {
    "execution": {
     "iopub.execute_input": "2025-10-16T07:08:11.521942Z",
     "iopub.status.busy": "2025-10-16T07:08:11.521625Z",
     "iopub.status.idle": "2025-10-16T07:10:41.264257Z",
     "shell.execute_reply": "2025-10-16T07:10:41.263109Z"
    },
    "papermill": {
     "duration": 149.758906,
     "end_time": "2025-10-16T07:10:41.272368",
     "exception": false,
     "start_time": "2025-10-16T07:08:11.513462",
     "status": "completed"
    },
    "tags": []
   },
   "outputs": [
    {
     "name": "stdout",
     "output_type": "stream",
     "text": [
      "Fitting 10 folds for each of 12 candidates, totalling 120 fits\n",
      "Best Random Forest AUC: 0.8841\n",
      "Best Hyperparameters: {'max_depth': None, 'min_samples_split': 2, 'n_estimators': 200}\n"
     ]
    }
   ],
   "source": [
    "param_grid = {\n",
    "    'n_estimators': [100, 200],\n",
    "    'max_depth': [10, 20, None],\n",
    "    'min_samples_split': [2, 5]\n",
    "}\n",
    "\n",
    "rf = RandomForestClassifier(random_state=42)\n",
    "grid_search = GridSearchCV(rf, param_grid, cv=10, scoring='roc_auc',n_jobs=-1, verbose=1)\n",
    "grid_search.fit(X_train_fe, y)\n",
    "\n",
    "best_rf_classifier = grid_search.best_estimator_\n",
    "y_pred = best_rf_classifier.predict(X_test_fe)\n",
    "\n",
    "print(f\"Best Random Forest AUC: {grid_search.best_score_:.4f}\")\n",
    "print(f\"Best Hyperparameters: {grid_search.best_params_}\")"
   ]
  },
  {
   "cell_type": "markdown",
   "id": "68577888",
   "metadata": {
    "papermill": {
     "duration": 0.007084,
     "end_time": "2025-10-16T07:10:41.287017",
     "exception": false,
     "start_time": "2025-10-16T07:10:41.279933",
     "status": "completed"
    },
    "tags": []
   },
   "source": [
    "## XGBoost "
   ]
  },
  {
   "cell_type": "code",
   "execution_count": 17,
   "id": "f93d1ede",
   "metadata": {
    "execution": {
     "iopub.execute_input": "2025-10-16T07:10:41.303011Z",
     "iopub.status.busy": "2025-10-16T07:10:41.302713Z",
     "iopub.status.idle": "2025-10-16T07:22:12.944159Z",
     "shell.execute_reply": "2025-10-16T07:22:12.943198Z"
    },
    "papermill": {
     "duration": 691.658008,
     "end_time": "2025-10-16T07:22:12.952500",
     "exception": false,
     "start_time": "2025-10-16T07:10:41.294492",
     "status": "completed"
    },
    "tags": []
   },
   "outputs": [
    {
     "name": "stdout",
     "output_type": "stream",
     "text": [
      "[CV] END .............................................C=0.01; total time=   0.0s\n",
      "[CV] END .............................................C=0.01; total time=   0.1s\n",
      "[CV] END ..............................................C=0.1; total time=   0.0s\n",
      "[CV] END ..............................................C=0.1; total time=   0.0s\n",
      "[CV] END ..............................................C=0.1; total time=   0.0s\n",
      "[CV] END ................................................C=1; total time=   0.0s\n",
      "[CV] END ................................................C=1; total time=   0.0s\n",
      "[CV] END ................................................C=1; total time=   0.1s\n",
      "[CV] END ...............................................C=10; total time=   0.1s\n",
      "[CV] END ...............................................C=10; total time=   0.1s\n",
      "[CV] END ..............................................C=100; total time=   0.1s\n",
      "[CV] END ..............................................C=100; total time=   0.1s\n",
      "[CV] END ..............................................C=100; total time=   0.0s\n",
      "[CV] END .............................................C=0.01; total time=   0.1s\n",
      "[CV] END ................................................C=1; total time=   0.1s\n",
      "[CV] END ...............................................C=10; total time=   0.1s\n",
      "[CV] END .............................................C=0.01; total time=   0.1s\n",
      "[CV] END .............................................C=0.01; total time=   0.0s\n",
      "[CV] END ..............................................C=0.1; total time=   0.1s\n",
      "[CV] END ..............................................C=0.1; total time=   0.0s\n",
      "[CV] END ................................................C=1; total time=   0.0s\n",
      "[CV] END ................................................C=1; total time=   0.0s\n",
      "[CV] END ................................................C=1; total time=   0.1s\n",
      "[CV] END ...............................................C=10; total time=   0.1s\n",
      "[CV] END ...............................................C=10; total time=   0.1s\n",
      "[CV] END ...............................................C=10; total time=   0.1s\n",
      "[CV] END ..............................................C=100; total time=   0.1s\n",
      "[CV] END ..............................................C=100; total time=   0.0s\n",
      "[CV] END ..............................................C=0.1; total time=   0.1s\n",
      "[CV] END ................................................C=1; total time=   0.0s\n",
      "[CV] END ................................................C=1; total time=   0.1s\n",
      "[CV] END ..............................................C=100; total time=   0.1s\n",
      "[CV] END .............................................C=0.01; total time=   0.1s\n",
      "[CV] END .............................................C=0.01; total time=   0.1s\n",
      "[CV] END .............................................C=0.01; total time=   0.0s\n",
      "[CV] END ..............................................C=0.1; total time=   0.1s\n",
      "[CV] END ..............................................C=0.1; total time=   0.1s\n",
      "[CV] END ..............................................C=0.1; total time=   0.0s\n",
      "[CV] END ................................................C=1; total time=   0.1s\n",
      "[CV] END ................................................C=1; total time=   0.1s\n",
      "[CV] END ...............................................C=10; total time=   0.1s\n",
      "[CV] END ...............................................C=10; total time=   0.1s\n",
      "[CV] END ..............................................C=100; total time=   0.1s\n",
      "[CV] END ..............................................C=100; total time=   0.1s\n",
      "[CV] END ..............................................C=100; total time=   0.1s\n",
      "[CV] END .............................................C=0.01; total time=   0.1s\n",
      "[CV] END ..............................................C=0.1; total time=   0.1s\n",
      "[CV] END ...............................................C=10; total time=   0.1s\n",
      "[CV] END ..............................................C=100; total time=   0.0s\n",
      "[CV] END .............................................C=0.01; total time=   0.1s\n",
      "[CV] END .............................................C=0.01; total time=   0.0s\n",
      "[CV] END .............................................C=0.01; total time=   0.1s\n",
      "[CV] END ..............................................C=0.1; total time=   0.0s\n",
      "[CV] END ..............................................C=0.1; total time=   0.0s\n",
      "[CV] END ................................................C=1; total time=   0.0s\n",
      "[CV] END ................................................C=1; total time=   0.1s\n",
      "[CV] END ...............................................C=10; total time=   0.1s\n",
      "[CV] END ...............................................C=10; total time=   0.1s\n",
      "[CV] END ...............................................C=10; total time=   0.1s\n",
      "[CV] END ..............................................C=100; total time=   0.1s\n",
      "[CV] END ..............................................C=100; total time=   0.1s\n",
      "[CV] END .............................................C=0.01; total time=   0.1s\n",
      "[CV] END ..............................................C=0.1; total time=   0.1s\n",
      "[CV] END ...............................................C=10; total time=   0.1s\n",
      "[CV] END ..............................................C=100; total time=   0.1s\n",
      "Fitting xgb\n",
      "Best XGB AUC: 0.8916\n",
      "Best Hyperparameters: {'colsample_bytree': 0.7, 'learning_rate': 0.01, 'max_depth': 5, 'n_estimators': 1500, 'subsample': 0.7}\n"
     ]
    }
   ],
   "source": [
    "xgb_model = XGBClassifier(use_label_encoder=False, eval_metric='mlogloss', seed=42)\n",
    "\n",
    "param_grid = {\n",
    "    'n_estimators': [500, 1000, 1500],\n",
    "    'learning_rate': [0.05, 0.01, 0.1],\n",
    "    'max_depth': [3, 5, None],\n",
    "    'subsample': [0.7, 0.9], \n",
    "    'colsample_bytree': [0.7]\n",
    "}\n",
    "\n",
    "xgb_grid = GridSearchCV(xgb_model, param_grid, cv=10, scoring='roc_auc')\n",
    "xgb_grid.fit(X_train_fe, y)\n",
    "print(\"Fitting xgb\")\n",
    "\n",
    "best_xgb_model = xgb_grid.best_estimator_\n",
    "print(f\"Best XGB AUC: {xgb_grid.best_score_:.4f}\")\n",
    "print(f\"Best Hyperparameters: {xgb_grid.best_params_}\")"
   ]
  },
  {
   "cell_type": "code",
   "execution_count": 18,
   "id": "3598d2e8",
   "metadata": {
    "execution": {
     "iopub.execute_input": "2025-10-16T07:22:12.969728Z",
     "iopub.status.busy": "2025-10-16T07:22:12.969340Z",
     "iopub.status.idle": "2025-10-16T07:33:28.791129Z",
     "shell.execute_reply": "2025-10-16T07:33:28.790206Z"
    },
    "papermill": {
     "duration": 675.839626,
     "end_time": "2025-10-16T07:33:28.799844",
     "exception": false,
     "start_time": "2025-10-16T07:22:12.960218",
     "status": "completed"
    },
    "tags": []
   },
   "outputs": [
    {
     "name": "stdout",
     "output_type": "stream",
     "text": [
      "Fitting xgb\n",
      "End fitting xgb\n",
      "Best XGB AUC: 0.8922\n",
      "Best Hyperparameters: {'colsample_bytree': 0.7, 'learning_rate': 0.01, 'max_depth': None, 'n_estimators': 1500, 'subsample': 0.7}\n"
     ]
    }
   ],
   "source": [
    "xgb_model_nofe = XGBClassifier(use_label_encoder=False, eval_metric='mlogloss', seed=42)\n",
    "\n",
    "param_grid_nofe = {\n",
    "    'n_estimators': [500, 1000, 1500],\n",
    "    'learning_rate': [0.05, 0.01, 0.1],\n",
    "    'max_depth': [3, 5, None],\n",
    "    'subsample': [0.7, 0.9], \n",
    "    'colsample_bytree': [0.7]\n",
    "}\n",
    "\n",
    "print(\"Fitting xgb\")\n",
    "xgb_grid_nofe = GridSearchCV(xgb_model, param_grid_nofe, cv=10, scoring='roc_auc')\n",
    "xgb_grid_nofe.fit(X_train, y)\n",
    "print(\"End fitting xgb\")\n",
    "\n",
    "best_xgb_model_nofe = xgb_grid_nofe.best_estimator_\n",
    "print(f\"Best XGB AUC: {xgb_grid_nofe.best_score_:.4f}\")\n",
    "print(f\"Best Hyperparameters: {xgb_grid_nofe.best_params_}\")"
   ]
  },
  {
   "cell_type": "code",
   "execution_count": 19,
   "id": "1aba6076",
   "metadata": {
    "execution": {
     "iopub.execute_input": "2025-10-16T07:33:28.816978Z",
     "iopub.status.busy": "2025-10-16T07:33:28.815999Z",
     "iopub.status.idle": "2025-10-16T07:33:28.932819Z",
     "shell.execute_reply": "2025-10-16T07:33:28.932172Z"
    },
    "papermill": {
     "duration": 0.12715,
     "end_time": "2025-10-16T07:33:28.934550",
     "exception": false,
     "start_time": "2025-10-16T07:33:28.807400",
     "status": "completed"
    },
    "tags": []
   },
   "outputs": [],
   "source": [
    "xgb_preds = best_xgb_model.predict_proba(X_test_fe)[:, 1]"
   ]
  },
  {
   "cell_type": "code",
   "execution_count": 20,
   "id": "13e44136",
   "metadata": {
    "execution": {
     "iopub.execute_input": "2025-10-16T07:33:28.951896Z",
     "iopub.status.busy": "2025-10-16T07:33:28.951040Z",
     "iopub.status.idle": "2025-10-16T07:33:29.102884Z",
     "shell.execute_reply": "2025-10-16T07:33:29.102134Z"
    },
    "papermill": {
     "duration": 0.161858,
     "end_time": "2025-10-16T07:33:29.104631",
     "exception": false,
     "start_time": "2025-10-16T07:33:28.942773",
     "status": "completed"
    },
    "tags": []
   },
   "outputs": [],
   "source": [
    "xgb_preds_nofe = best_xgb_model_nofe.predict_proba(X_test)[:, 1]"
   ]
  },
  {
   "cell_type": "markdown",
   "id": "47fef1e4",
   "metadata": {
    "papermill": {
     "duration": 0.007659,
     "end_time": "2025-10-16T07:33:29.120507",
     "exception": false,
     "start_time": "2025-10-16T07:33:29.112848",
     "status": "completed"
    },
    "tags": []
   },
   "source": [
    "## Stacking"
   ]
  },
  {
   "cell_type": "code",
   "execution_count": 21,
   "id": "5cbc51bd",
   "metadata": {
    "execution": {
     "iopub.execute_input": "2025-10-16T07:33:29.137200Z",
     "iopub.status.busy": "2025-10-16T07:33:29.136908Z",
     "iopub.status.idle": "2025-10-16T07:34:52.841708Z",
     "shell.execute_reply": "2025-10-16T07:34:52.840747Z"
    },
    "papermill": {
     "duration": 83.721674,
     "end_time": "2025-10-16T07:34:52.849957",
     "exception": false,
     "start_time": "2025-10-16T07:33:29.128283",
     "status": "completed"
    },
    "tags": []
   },
   "outputs": [
    {
     "name": "stdout",
     "output_type": "stream",
     "text": [
      "Fitting stack\n",
      "Stacking Model CV AUC (Mean): 0.8915\n"
     ]
    }
   ],
   "source": [
    "stack = StackingClassifier(\n",
    "    estimators=[\n",
    "        ('xgb', best_xgb_model_nofe), \n",
    "        ('lr', best_log_reg)],\n",
    "    final_estimator=LogisticRegression(),\n",
    "    cv=7, \n",
    "    n_jobs=-1\n",
    ")\n",
    "\n",
    "stack.fit(X_train, y)\n",
    "print(\"Fitting stack\")\n",
    "\n",
    "stack_preds = stack.predict_proba(X_test)[:, 1]\n",
    "\n",
    "stack_cv_auc = cross_val_score(stack, X_train, y, cv=5, scoring='roc_auc', n_jobs=-1)\n",
    "print(f\"Stacking Model CV AUC (Mean): {stack_cv_auc.mean():.4f}\")"
   ]
  },
  {
   "cell_type": "code",
   "execution_count": 22,
   "id": "0671b6c6",
   "metadata": {
    "execution": {
     "iopub.execute_input": "2025-10-16T07:34:52.867078Z",
     "iopub.status.busy": "2025-10-16T07:34:52.866787Z",
     "iopub.status.idle": "2025-10-16T07:34:52.894286Z",
     "shell.execute_reply": "2025-10-16T07:34:52.893276Z"
    },
    "papermill": {
     "duration": 0.037955,
     "end_time": "2025-10-16T07:34:52.895895",
     "exception": false,
     "start_time": "2025-10-16T07:34:52.857940",
     "status": "completed"
    },
    "tags": []
   },
   "outputs": [],
   "source": [
    "submission_df = pd.DataFrame({'id': test.id, 'smoking': xgb_preds})\n",
    "submission_df.to_csv('attempt_18_xgb.csv', index=False)"
   ]
  }
 ],
 "metadata": {
  "kaggle": {
   "accelerator": "none",
   "dataSources": [
    {
     "databundleVersionId": 11949665,
     "sourceId": 99730,
     "sourceType": "competition"
    }
   ],
   "dockerImageVersionId": 31153,
   "isGpuEnabled": false,
   "isInternetEnabled": true,
   "language": "python",
   "sourceType": "notebook"
  },
  "kernelspec": {
   "display_name": "Python 3",
   "language": "python",
   "name": "python3"
  },
  "language_info": {
   "codemirror_mode": {
    "name": "ipython",
    "version": 3
   },
   "file_extension": ".py",
   "mimetype": "text/x-python",
   "name": "python",
   "nbconvert_exporter": "python",
   "pygments_lexer": "ipython3",
   "version": "3.11.13"
  },
  "papermill": {
   "default_parameters": {},
   "duration": 1617.906281,
   "end_time": "2025-10-16T07:34:55.524038",
   "environment_variables": {},
   "exception": null,
   "input_path": "__notebook__.ipynb",
   "output_path": "__notebook__.ipynb",
   "parameters": {},
   "start_time": "2025-10-16T07:07:57.617757",
   "version": "2.6.0"
  }
 },
 "nbformat": 4,
 "nbformat_minor": 5
}
